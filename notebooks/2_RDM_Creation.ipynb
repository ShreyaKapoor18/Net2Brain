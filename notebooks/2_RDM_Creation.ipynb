{
 "cells": [
  {
   "attachments": {},
   "cell_type": "markdown",
   "metadata": {},
   "source": [
    "# Installing Net2Brain"
   ]
  },
  {
   "cell_type": "markdown",
   "metadata": {},
   "source": [
    "<img src=\"workshops/data/Net2Brain_Logo.png\" width=\"25%\" />"
   ]
  },
  {
   "cell_type": "code",
   "execution_count": 1,
   "metadata": {
    "ExecuteTime": {
     "end_time": "2024-01-23T09:37:18.218755Z",
     "start_time": "2024-01-23T09:37:08.893135Z"
    }
   },
   "outputs": [],
   "source": [
    "#!pip install -U git+https://github.com/cvai-roig-lab/Net2Brain"
   ]
  },
  {
   "attachments": {},
   "cell_type": "markdown",
   "metadata": {},
   "source": [
    "# Step 2: Creating Representational Dissimilarity Matrices (RDMs) using `RDM Creator`"
   ]
  },
  {
   "attachments": {},
   "cell_type": "markdown",
   "metadata": {},
   "source": [
    "After completing Step 1, where the Feature Extractor extracts features from the specified layers, we can now proceed to Step 2, which involves calculating Representational Dissimilarity Matrices (RDMs) using the RDM Creator's built-in functionality.\n",
    "\n",
    "We first initialize the RDM Creator class, which contains the function to generate RDMs. The RDM Creator class requires the following parameters:\n",
    "- **device**: The device on which the RDMs will be generated. This can be 'cpu' or 'cuda'.\n",
    "- **verbose**: Whether to print the progress of the RDM generation process.\n",
    "\n",
    "To generate RDMs, the RDM Creator function requires:\n",
    "\n",
    "- **feature_path**: The path to the .npz files containing the layer features for each image. These files should have a [Batch x Channel x Height x Width] format.\n",
    "- **save_path** (optional): The location where the generated RDMs will be saved.\n",
    "- **save_format** (optional): The format in which the RDMs will be saved. This can be 'npz' or 'pt'.\n",
    "- **distance** (optional): The distance function to generate the RDMs. Default is the correlation distance.\n",
    "- **chunk_size** (optional): The number of images to be processed at a time. This is useful when the number of images is too large to fit in memory. Default is all images.\n",
    "\n",
    "\n",
    "\n",
    "The function will then:\n",
    "\n",
    "- **Output**: Create an RDM with the shape (#Images, #Images) for every specified layer.\n",
    "\n",
    "In this example, we'll be using the AlexNet features generated earlier in the tutorial. The function can be called as follows:"
   ]
  },
  {
   "cell_type": "code",
   "execution_count": null,
   "metadata": {
    "ExecuteTime": {
     "end_time": "2024-01-23T09:37:19.227104Z",
     "start_time": "2024-01-23T09:37:18.220246Z"
    }
   },
   "outputs": [],
   "source": [
    "from net2brain.rdm_creation import RDMCreator\n",
    "\n",
    "feat_path = \"AlexNet_Feat\"\n",
    "save_path = \"AlexNet_RDM\"\n",
    "\n",
    "\n",
    "# Call the Class with the path to the features\n",
    "creator = RDMCreator(verbose=True, device='cpu') \n",
    "save_path = creator.create_rdms(feature_path=feat_path, save_path=save_path, save_format='npz') "
   ]
  },
  {
   "cell_type": "markdown",
   "metadata": {
    "collapsed": false
   },
   "source": [
    "The default distance function is the correlation distance. To use a different distance function, we can specify the distance function in the **distance** parameter. The available distance functions can been seen by calling the **distance_functions** method of the RDMCreator. We created synonyms for the distance functions to make it easier to use them (i.e. l2 == euclidean). The available distance functions are:"
   ]
  },
  {
   "cell_type": "code",
   "execution_count": null,
   "metadata": {
    "ExecuteTime": {
     "end_time": "2024-01-23T09:37:19.230032Z",
     "start_time": "2024-01-23T09:37:19.227493Z"
    },
    "collapsed": false
   },
   "outputs": [],
   "source": [
    "creator.distance_functions()"
   ]
  },
  {
   "cell_type": "markdown",
   "metadata": {
    "collapsed": false
   },
   "source": [
    "You can also use custom distance functions by passing a function to the **distance** parameter. The function should take one argument `x` of shape `(N, D)`, which represents the features (dimension `D`) of the `N` images and return a pairwise distance matrix of shape `(N, N)`. For example, we can use the cosine distance function as follows:"
   ]
  },
  {
   "cell_type": "code",
   "execution_count": null,
   "metadata": {
    "ExecuteTime": {
     "end_time": "2024-01-23T09:37:19.367961Z",
     "start_time": "2024-01-23T09:37:19.230829Z"
    },
    "collapsed": false
   },
   "outputs": [],
   "source": [
    "import torch.nn.functional as F\n",
    "\n",
    "def custom_cosine(x):\n",
    "    x_norm = F.normalize(x, p=2, dim=1)\n",
    "    return 1 - (x_norm @ x_norm.T)\n",
    "\n",
    "creator.create_rdms(feature_path=feat_path, save_path='AlexNet_RDM_custom', save_format='npz', distance=custom_cosine)"
   ]
  },
  {
   "cell_type": "markdown",
   "metadata": {
    "collapsed": false
   },
   "source": [
    "We can access and visualize the RDM of a single layer using the `LayerRDM` class:"
   ]
  },
  {
   "cell_type": "code",
   "execution_count": null,
   "metadata": {
    "ExecuteTime": {
     "end_time": "2024-01-23T09:37:19.616167Z",
     "start_time": "2024-01-23T09:37:19.369314Z"
    },
    "collapsed": false
   },
   "outputs": [],
   "source": [
    "from net2brain.rdm_creation import LayerRDM\n",
    "\n",
    "rdm = LayerRDM.from_file(\"AlexNet_RDM/RDM_features_0.npz\")\n",
    "print(rdm)\n",
    "rdm.plot(indices=[0, 1, 2, 3, 4, 5, 6, 7, 8, 9])"
   ]
  },
  {
   "cell_type": "code",
   "execution_count": null,
   "metadata": {
    "ExecuteTime": {
     "end_time": "2024-01-23T09:37:20.289433Z",
     "start_time": "2024-01-23T09:37:19.620048Z"
    }
   },
   "outputs": [],
   "source": [
    "from net2brain.rdm_creation import RDMCreator\n",
    "\n",
    "feat_path = \"ResNet50_Feat\"\n",
    "save_path = \"ResNet50_RDM\"\n",
    "\n",
    "\n",
    "# Call the Class with the path to the feautures\n",
    "creator = RDMCreator(device='cpu', verbose=True)  \n",
    "creator.create_rdms(feature_path=feat_path, save_path=save_path, save_format='npz')  # This will create and save the RDMs at the specified save path"
   ]
  }
 ],
 "metadata": {
  "kernelspec": {
   "display_name": "N2B",
   "language": "python",
   "name": "python3"
  },
  "language_info": {
   "codemirror_mode": {
    "name": "ipython",
    "version": 3
   },
   "file_extension": ".py",
   "mimetype": "text/x-python",
   "name": "python",
   "nbconvert_exporter": "python",
   "pygments_lexer": "ipython3",
   "version": "3.10.13"
  },
  "orig_nbformat": 4,
  "vscode": {
   "interpreter": {
    "hash": "2143370df03d7e8d8afb3cb32a8181ea228f5a6f13a304f592978240ae0036e6"
   }
  }
 },
 "nbformat": 4,
 "nbformat_minor": 2
}
